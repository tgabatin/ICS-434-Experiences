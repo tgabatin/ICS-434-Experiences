{
 "cells": [
  {
   "cell_type": "markdown",
   "id": "30610127",
   "metadata": {},
   "source": [
    "### Q.1\n",
    "\n",
    "* Assuming the `DataFrame`'s `HNL_flights_df` contains information about all the arriving and departing flights in and out of the Honolulu airport (HNL).\n",
    "\n",
    "* Which of the following lines of code will give the number of rows and columns of the `HNL_flights_df DataFrame`?  \n",
    "\n",
    "A:\n",
    "```python\n",
    "HNL_flights_df.size\n",
    "```\n",
    "\n",
    "B: \n",
    "```python\n",
    "HNL_flights_df.shape\n",
    "```\n",
    "\n",
    "C: \n",
    "```python\n",
    "HNL_flights_df.shape()\n",
    "```\n",
    "\n",
    "D: \n",
    "```python\n",
    "pd.shape(HNL_flights_df)\n",
    "```"
   ]
  },
  {
   "cell_type": "markdown",
   "id": "1f3d7c9c",
   "metadata": {},
   "source": [
    "### Answer\n",
    "\n",
    "B. HNL_flights_df.shape"
   ]
  },
  {
   "cell_type": "markdown",
   "id": "4e5d5465",
   "metadata": {},
   "source": [
    "### Q.2\n",
    "\n",
    "Which of the following lines of code will output the average arrival delay time for the flights described in `HNL_flights_df`? \n",
    "\n",
    "A:\n",
    "```python\n",
    "HNL_flights_df['ARRIVAL_DELAY'].mean()\n",
    "```\n",
    "\n",
    "B:\n",
    "```python\n",
    "HNL_flights_df.mean()\n",
    "```\n",
    "\n",
    "C:\n",
    "```python\n",
    "HNL_flights_df[\"ARRIVAL_DELAY\"].sum() / HNL_flights_df[\"ARRIVAL_DELAY\"].size\n",
    "```\n",
    "\n",
    "D:\n",
    "```python\n",
    "HNL_flights_df.describe().ARRIVAL_DELAY\n",
    "```"
   ]
  },
  {
   "cell_type": "markdown",
   "id": "2d73ac8d",
   "metadata": {},
   "source": [
    "### Answer\n",
    "\n",
    "A. HNL_flights_df['ARRIVAL_DELAY'].mean()"
   ]
  },
  {
   "cell_type": "markdown",
   "id": "821dedb6",
   "metadata": {},
   "source": [
    "### Q.3\n",
    "\n",
    "\n",
    "Which line of code will correctly sort `HNL_flights_df` by the arrival delay in order of largest to least,\n",
    "\n",
    "A:\n",
    "```python\n",
    "HNL_flights_df.sort_values(by='ARRIVAL_DELAY')\n",
    "```\n",
    "\n",
    "B:\n",
    "```python\n",
    "HNL_flights_df.sort_values(by='ARRIVAL_DELAY', ascending = True)\n",
    "```\n",
    "\n",
    "C:\n",
    "```python\n",
    "HNL_flights_df.sort_index(by='ARRIVAL_DELAY', descending=False)\n",
    "```\n",
    "\n",
    "D:\n",
    "```python\n",
    "HNL_flights_df.sort(by='ARRIVAL_DELAY', ascending = False)\n",
    "```"
   ]
  },
  {
   "cell_type": "markdown",
   "id": "ac2b83bd",
   "metadata": {},
   "source": [
    "### Answer\n",
    "\n",
    "D. HNL_flights_df.sort(by='ARRIVAL_DELAY', ascending=False)"
   ]
  },
  {
   "cell_type": "markdown",
   "id": "410f76f4",
   "metadata": {
    "pycharm": {
     "name": "#%%\n"
    }
   },
   "source": [
    "Q.4\n",
    "\n",
    "10 users were asked to select from four options (A, B, C and D). Their responses are stored in the variable `x` below.\n",
    "\n",
    "```python\n",
    "x = pd.Series([\"A\" , \"B\", \"A\", \"A\", \"D\", \"C\", \"A\", \"C\", \"A\", \"A\"])\n",
    "```\n",
    "\n",
    "Use the data in `x` to plot a piechart representing the counts for each of the 4 options. Your plot should look like the following:\n",
    "\n",
    "![](https://www.dropbox.com/s/jgq8whc8jcdazkj/pie_chart.png?dl=1)\n",
    "\n",
    "This can be done by:\n",
    "\n",
    "1. Counting the number of occurrences of each option and storing it into a DataFrame that looks like this:\n",
    "\n",
    "![](https://www.dropbox.com/s/qmr3y9ppf6qllle/counts_df.png?dl=1)\n",
    "\n",
    "2. Invoking the plot method with `pie` option on the `DataFrame`, indicating that your `y` value is the `counts` column."
   ]
  },
  {
   "cell_type": "code",
   "execution_count": 2,
   "id": "0efc457c",
   "metadata": {},
   "outputs": [
    {
     "data": {
      "text/html": [
       "<div>\n",
       "<style scoped>\n",
       "    .dataframe tbody tr th:only-of-type {\n",
       "        vertical-align: middle;\n",
       "    }\n",
       "\n",
       "    .dataframe tbody tr th {\n",
       "        vertical-align: top;\n",
       "    }\n",
       "\n",
       "    .dataframe thead th {\n",
       "        text-align: right;\n",
       "    }\n",
       "</style>\n",
       "<table border=\"1\" class=\"dataframe\">\n",
       "  <thead>\n",
       "    <tr style=\"text-align: right;\">\n",
       "      <th></th>\n",
       "      <th>counts</th>\n",
       "    </tr>\n",
       "    <tr>\n",
       "      <th>response</th>\n",
       "      <th></th>\n",
       "    </tr>\n",
       "  </thead>\n",
       "  <tbody>\n",
       "    <tr>\n",
       "      <th>A</th>\n",
       "      <td>6</td>\n",
       "    </tr>\n",
       "    <tr>\n",
       "      <th>C</th>\n",
       "      <td>2</td>\n",
       "    </tr>\n",
       "    <tr>\n",
       "      <th>B</th>\n",
       "      <td>1</td>\n",
       "    </tr>\n",
       "    <tr>\n",
       "      <th>D</th>\n",
       "      <td>1</td>\n",
       "    </tr>\n",
       "  </tbody>\n",
       "</table>\n",
       "</div>"
      ],
      "text/plain": [
       "          counts\n",
       "response        \n",
       "A              6\n",
       "C              2\n",
       "B              1\n",
       "D              1"
      ]
     },
     "execution_count": 2,
     "metadata": {},
     "output_type": "execute_result"
    }
   ],
   "source": [
    "import pandas as pd\n",
    "\n",
    "val = pd.Series([\"A\" , \"B\", \"A\", \"A\", \"D\", \"C\", \"A\", \"C\", \"A\", \"A\"])\n",
    "\n",
    "a = val.value_counts()['A']\n",
    "b = val.value_counts()['B']\n",
    "c = val.value_counts()['C']\n",
    "d = val.value_counts()['D']\n",
    "\n",
    "total_counts = [a,b,c,d]\n",
    "\n",
    "df = df = pd.DataFrame({'response': ['A', 'B', 'C', 'D'], 'counts': total_counts})\n",
    "new_df = df.sort_values(by='counts', ascending=False)\n",
    "new_df.set_index('response', inplace=True)\n",
    "new_df.head()\n"
   ]
  },
  {
   "cell_type": "code",
   "execution_count": 3,
   "id": "c06f0deb",
   "metadata": {},
   "outputs": [
    {
     "data": {
      "text/plain": [
       "<AxesSubplot:ylabel='counts'>"
      ]
     },
     "execution_count": 3,
     "metadata": {},
     "output_type": "execute_result"
    },
    {
     "data": {
      "image/png": "[encoded data removed]",
      "text/plain": [
       "<Figure size 432x288 with 1 Axes>"
      ]
     },
     "metadata": {},
     "output_type": "display_data"
    }
   ],
   "source": [
    "new_df.plot.pie(y='counts')"
   ]
  }
 ],
 "metadata": {
  "interpreter": {
   "hash": "c1e29d3596a431c78d7c9fd90b585df5056f19f455642dbf4b5ff1cfb66f18b7"
  },
  "kernelspec": {
   "display_name": "Python 3.7.11 ('tensorflow_env')",
   "language": "python",
   "name": "python3"
  },
  "language_info": {
   "codemirror_mode": {
    "name": "ipython",
    "version": 3
   },
   "file_extension": ".py",
   "mimetype": "text/x-python",
   "name": "python",
   "nbconvert_exporter": "python",
   "pygments_lexer": "ipython3",
   "version": "3.7.11"
  }
 },
 "nbformat": 4,
 "nbformat_minor": 5
}
