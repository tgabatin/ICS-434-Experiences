{
 "cells": [
  {
   "cell_type": "markdown",
   "id": "9205a4db",
   "metadata": {},
   "source": [
    "Name: Taylor D. Gabatino\n",
    "\n",
    "Date: February 21, 2022\n",
    "\n",
    "Probability Distribution Experience"
   ]
  },
  {
   "cell_type": "code",
   "execution_count": 2,
   "id": "bc17d3fd",
   "metadata": {},
   "outputs": [],
   "source": [
    "# Import statements\n",
    "import random\n",
    "import numpy as np\n",
    "import matplotlib.pyplot as plt\n",
    "import itertools\n",
    "from scipy.stats import binom"
   ]
  },
  {
   "cell_type": "markdown",
   "id": "713c60c7",
   "metadata": {},
   "source": [
    "##### Q.1 \n",
    "\n",
    "Consider the loaded die with the following probabilities:\n",
    "```\n",
    "    p(1) = 0.3/6\n",
    "    p(2) = 0.7/6\n",
    "    p(3) =   2/6\n",
    "    p(4) = 0.5/6\n",
    "    p(5) = 0.2/6\n",
    "    p(6) = 2.3/6\n",
    "```\n"
   ]
  },
  {
   "cell_type": "markdown",
   "id": "e3992099",
   "metadata": {},
   "source": [
    "Given these loaded die with the following probabilities, we could calculate the most likely die face in which a probability of this face occuring would happen. The following code will highlight a plot of the probability distributions. along with calculations for finding the mean of specific die rolls. \n",
    "\n",
    "To make this easier, we could potentially load these values into a Series to inspect the data if it needed o be changed."
   ]
  },
  {
   "cell_type": "markdown",
   "id": "dbe12bdf",
   "metadata": {},
   "source": [
    "##### Q.2 \n",
    "* Plot the probability distribution above\n",
    "  * Select the most appropriate visualization to do so."
   ]
  },
  {
   "cell_type": "code",
   "execution_count": 11,
   "id": "f519fe80",
   "metadata": {},
   "outputs": [
    {
     "data": {
      "text/plain": [
       "Text(0, 0.5, 'probability')"
      ]
     },
     "execution_count": 11,
     "metadata": {},
     "output_type": "execute_result"
    },
    {
     "data": {
      "image/png": "[encoded data removed]",
      "text/plain": [
       "<Figure size 720x288 with 1 Axes>"
      ]
     },
     "metadata": {
      "needs_background": "light"
     },
     "output_type": "display_data"
    }
   ],
   "source": [
    "# Defines a function that loads the distribuctions and their probabilities\n",
    "def loaded_die_distribution (face):\n",
    "    try:\n",
    "        dist = {1:0.3/6, 2:0.7/6, 3:2/6, 4:0.5/6, 5:0.2/6, 6:2.3/6}\n",
    "        return dist[face]\n",
    "    except:\n",
    "        raise(\"%s is not a valid die face %d\" % face)\n",
    "\n",
    "# Defines the sample space within the range specified for the die\n",
    "sample_space = list(range(1,7))\n",
    "p_x = [loaded_die_distribution (f) for f in sample_space]\n",
    "\n",
    "# Plotting the figures\n",
    "plt.figure(figsize=(10, 4))\n",
    "plt.bar(sample_space, p_x)\n",
    "plt.title('Die Face vs. Probability')\n",
    "plt.xlabel('Die face obtained')\n",
    "plt.ylabel('probability')\n"
   ]
  },
  {
   "cell_type": "markdown",
   "id": "2bebd2a7",
   "metadata": {},
   "source": [
    "##### Q.3 \n",
    "* Based only on the plot above, can you predict the mean value of a random variable consisting of values obtaining from rolling a die  that follows the probability distribution given above? Explain your reasoning."
   ]
  },
  {
   "cell_type": "markdown",
   "id": "9144c2f9",
   "metadata": {},
   "source": [
    "Based on the plot above, the mean value is going to be a value between 3 and 6, so approximately 4.5 if calculating the median. When calculating the actual probability, we can note the following:\n",
    "\n",
    "$1(.3/6)+2(.7/6)+3(2/6)+4(.5/6)+5(.2/6)+6(2.3/6) = ~4.08)$\n",
    "\n",
    "Therefore, the mean value predicted will most likely be in this range. "
   ]
  },
  {
   "cell_type": "markdown",
   "id": "007f6984",
   "metadata": {},
   "source": [
    "##### Q.4\n",
    "* Sample 5000 die rolls such that the probabilities of obtaining the values 1 through 6 are distributed according probabilities above. Use these samples to estimate the mean of the random variable. \n"
   ]
  },
  {
   "cell_type": "code",
   "execution_count": 7,
   "id": "5bc38d79",
   "metadata": {},
   "outputs": [
    {
     "name": "stdout",
     "output_type": "stream",
     "text": [
      "2 3 2 6 3 3 3 6 3 3 2 3 2 4 3 3 2 6 6 2 1 6 6 3 5 6 4 2 6 6 3 3 6 3 6 6 6 5 6 6 3 6 6 6 3 6 4 6 3 6 3 3 6 1 6 6 3 2 6 6 3 2 4 6 1 6 6 2 3 3 3 3 6 6 6 6 3 2 2 6 3 4 3 6 3 6 2 3 3 2 6 1 6 4 1 5 1 6 1 3 6 3 3 6 3 3 6 2 3 4 6 6 6 2 6 3 3 3 2 6 6 3 6 3 6 3 6 6 5 4 3 3 6 1 3 3 3 6 1 2 2 6 6 5 3 5 5 6 3 3 1 6 6 1 4 6 6 3 2 6 3 3 3 3 6 3 2 3 3 2 6 3 6 6 6 6 6 5 3 6 3 6 6 3 3 6 6 3 1 6 6 6 2 3 3 3 6 3 3 3 2 4 1 6 3 2 6 3 1 4 2 2 1 3 3 3 2 4 4 6 6 1 3 6 6 3 3 1 3 6 3 2 3 6 3 1 4 2 4 6 3 1 6 4 3 1 3 6 4 6 6 6 2 6 3 3 6 3 3 1 5 4 5 6 6 3 3 6 6 6 1 6 3 4 6 3 3 4 3 2 3 2 6 6 6 3 3 3 2 6 6 2 6 3 3 6 6 6 6 1 3 3 2 6 6 6 2 6 6 6 3 3 6 3 2 6 6 3 6 3 6 4 4 6 6 4 6 3 6 1 4 3 2 6 6 3 6 3 3 6 6 6 2 6 3 4 3 3 2 3 4 5 6 3 3 2 1 3 2 2 5 4 3 3 6 6 3 6 4 6 2 6 6 6 3 6 2 6 6 5 6 3 3 6 2 1 6 3 3 1 2 6 6 6 3 6 3 6 6 6 6 3 6 2 1 6 6 3 3 6 3 6 6 3 3 1 4 6 4 4 6 6 3 6 3 3 2 3 3 6 2 4 6 3 6 3 3 6 6 1 1 6 6 6 6 2 3 3 6 1 3 6 3 2 5 2 3 6 3 6 1 6 6 2 6 6 6 6 3 6 6 2 3 6 3 3 2 6 2 1 1 6 3 3 5 3 6 3 3 3 6 3 6 5 6 3 6 3 3 3 6 2 3 2 6 2 3 2 5 3 6 6 4 3 3 6 3 3 6 4 3 5 3 4 3 6 3 3 3 5 6 6 3 2 3 6 2 6 3 6 3 6 6 4 6 6 3 4 5 2 4 6 3 6 3 4 2 3 4 2 2 6 3 6 6 2 6 6 2 2 6 6 6 2 1 4 6 6 6 6 6 3 6 6 3 6 6 6 6 3 4 4 6 3 2 6 6 3 6 6 2 6 6 4 3 3 1 3 6 6 2 4 6 6 3 2 3 3 5 6 3 4 3 3 6 2 3 1 6 3 3 3 3 6 4 6 3 2 4 6 3 6 4 4 3 4 3 1 6 6 6 2 3 6 3 4 4 5 5 3 3 6 2 3 2 6 2 3 3 3 6 6 2 3 6 6 3 3 3 6 1 3 2 6 6 3 3 3 3 4 3 2 1 3 3 3 3 1 6 6 1 3 3 6 2 6 3 6 6 3 2 3 6 3 4 6 1 3 3 6 3 6 2 3 5 6 3 3 3 6 6 2 3 2 3 3 6 3 3 3 6 3 3 3 3 6 1 3 5 6 6 4 3 3 6 3 3 6 6 6 3 6 3 4 3 1 6 5 1 6 6 2 3 6 4 6 3 5 1 3 3 3 2 3 2 6 6 6 6 3 1 1 3 6 6 3 6 3 2 4 6 3 4 3 3 3 6 6 3 3 3 3 6 1 6 3 1 1 6 6 6 6 1 3 6 5 3 6 6 4 2 6 3 6 3 3 2 6 6 6 6 6 3 3 6 3 3 3 6 6 3 6 2 5 6 4 2 3 3 6 3 3 3 6 6 6 3 1 3 6 4 6 6 6 3 6 2 4 6 1 6 2 2 6 6 1 3 6 3 6 6 4 3 6 3 3 6 6 2 4 6 2 3 4 3 4 6 3 2 2 2 3 3 3 3 3 3 6 3 1 6 6 3 6 2 6 3 3 6 3 4 3 2 3 6 2 6 2 3 2 3 2 3 3 6 2 4 3 6 2 6 3 1 4 2 3 6 6 3 6 6 6 3 6 6 6 3 4 2 6 6 3 4 6 4 3 6 3 3 4 3 5 3 6 6 2 2 3 3 1 3 3 3 6 4 3 6 6 6 3 3 3 2 2 3 3 3 6 6 6 3 5 4 2 6 6 1 4 3 5 2 3 3 3 6 3 2 3 3 6 6 5 3 3 2 6 3 2 6 6 3 3 6 2 6 6 3 6 1 1 3 6 6 6 2 6 3 3 3 1 3 6 3 3 3 6 3 6 6 6 6 6 3 3 6 3 6 6 6 4 3 2 6 6 4 6 2 3 5 6 6 3 3 6 6 6 6 3 6 3 6 3 6 5 3 2 4 3 2 6 1 3 6 6 6 3 6 6 1 1 3 3 3 1 4 6 6 3 6 4 6 3 1 2 3 3 1 4 4 6 3 4 3 5 3 1 3 6 6 6 4 5 6 2 6 6 6 3 6 6 3 3 4 2 6 6 2 3 6 1 3 3 6 3 2 3 2 3 3 6 3 6 2 6 3 6 6 3 6 6 3 1 6 6 6 4 3 6 1 3 2 6 2 2 3 4 3 2 6 3 3 3 1 3 3 6 6 6 4 3 3 1 6 3 3 3 4 3 2 1 6 2 2 6 6 4 6 2 6 3 3 6 6 6 1 2 6 3 3 3 3 2 3 3 3 6 6 3 4 6 3 6 4 1 5 3 6 6 6 4 3 6 6 6 2 6 4 3 6 6 2 6 4 3 3 6 6 6 3 3 1 4 3 4 6 6 3 2 6 6 4 4 6 6 2 4 6 2 4 6 3 6 3 6 6 2 2 3 3 3 2 2 6 3 6 3 4 4 3 3 6 1 3 2 4 6 6 3 3 3 4 3 3 4 6 6 6 6 6 3 6 3 6 2 3 1 3 3 3 5 6 6 6 6 3 6 3 6 2 3 6 4 4 2 3 3 6 3 4 3 6 6 6 3 6 3 6 4 6 6 3 6 3 3 3 3 2 4 6 6 4 6 2 6 6 6 6 6 3 6 1 2 6 5 6 2 6 6 1 4 6 3 3 2 6 3 1 4 4 5 3 6 6 3 1 6 6 2 3 3 6 6 3 3 2 4 6 3 3 3 4 3 3 3 3 2 3 3 6 1 6 6 3 6 6 3 6 6 3 3 3 3 1 6 6 3 3 6 6 6 3 3 3 6 3 3 3 6 2 6 6 2 6 6 5 6 3 3 6 6 6 4 3 6 3 2 6 2 2 2 6 3 6 3 6 6 1 4 6 6 6 5 3 3 6 6 6 4 6 2 3 5 2 4 6 2 6 3 3 2 2 4 3 6 6 2 4 3 4 3 6 3 2 6 1 6 4 2 3 6 4 3 6 6 2 6 6 6 4 2 3 3 6 3 3 2 3 4 6 6 4 2 2 3 6 1 6 2 3 4 3 6 2 2 6 3 3 2 6 3 3 3 3 2 6 6 3 1 2 1 1 6 6 3 4 6 6 4 3 6 6 4 6 6 6 6 3 6 1 3 4 3 6 6 2 6 4 6 2 4 3 6 6 6 6 3 6 1 3 6 6 1 6 2 3 6 4 6 5 3 3 6 2 6 3 1 1 3 3 6 2 3 6 3 1 5 3 3 4 6 3 3 5 3 2 2 4 6 3 6 6 2 3 6 2 6 3 6 4 3 6 3 2 6 6 3 3 6 3 6 6 3 6 3 3 4 1 1 3 6 1 3 3 3 3 6 3 6 2 6 6 6 4 6 2 3 6 4 2 6 5 6 1 6 5 6 3 2 3 3 6 6 3 1 6 3 3 1 2 1 6 1 3 3 3 3 4 3 6 6 6 2 3 3 2 3 6 6 3 4 6 5 3 6 6 3 3 3 2 3 4 5 6 3 3 3 2 3 6 3 2 6 3 2 3 3 3 1 6 2 2 3 3 1 6 3 6 2 3 2 3 3 6 3 6 3 6 3 6 6 6 6 6 1 3 6 6 3 2 3 6 2 6 5 6 6 2 3 2 6 1 1 1 6 3 6 3 2 6 3 3 3 3 3 6 6 6 4 6 6 2 3 3 6 3 3 6 6 6 6 3 6 6 3 1 3 3 2 3 6 5 6 3 3 3 2 1 6 6 6 2 6 3 4 6 3 2 6 4 6 6 2 6 6 6 6 3 3 3 2 3 3 6 1 3 3 3 3 2 3 6 3 6 3 6 3 4 3 6 3 2 2 6 6 3 3 6 6 2 3 6 6 6 3 2 2 6 6 6 5 6 6 6 6 2 6 6 5 6 3 5 3 3 6 5 1 4 6 6 4 3 3 4 3 6 3 6 6 3 6 6 6 6 6 6 3 2 1 3 2 6 3 5 3 2 6 6 6 6 3 3 4 2 6 3 6 6 1 6 2 3 2 5 1 3 6 2 6 6 2 3 6 6 3 6 6 6 3 6 4 6 3 6 6 2 6 3 3 4 6 6 3 3 1 3 6 6 3 6 6 3 6 6 2 1 6 2 2 3 2 5 3 6 6 2 3 4 3 6 6 3 6 3 3 1 3 6 5 3 4 3 3 2 6 2 3 1 5 3 3 3 3 3 6 3 5 6 3 3 4 2 6 2 2 4 6 3 6 3 3 2 3 5 4 6 4 2 2 1 6 6 6 1 3 6 4 4 6 6 4 3 4 6 1 3 6 6 3 3 3 3 5 6 3 2 6 6 3 6 2 3 6 6 3 6 6 6 6 6 3 6 2 3 3 6 6 2 2 2 6 3 6 6 1 3 3 6 6 6 6 3 6 3 2 6 4 2 2 4 3 6 4 6 3 3 2 3 3 5 6 3 3 6 2 4 6 6 4 4 3 3 6 5 6 6 6 3 6 6 3 3 4 6 2 3 3 4 6 3 3 3 6 3 2 6 6 6 6 3 3 3 3 3 3 6 6 2 6 2 3 3 6 6 3 3 6 6 6 4 6 3 6 3 3 3 3 3 2 6 3 4 3 6 6 3 6 3 3 6 3 3 4 4 6 3 6 3 3 6 1 2 3 6 3 1 2 3 2 3 3 2 6 5 4 1 6 2 3 3 3 3 6 6 6 3 3 2 6 6 6 6 3 6 3 6 3 6 2 6 3 3 6 4 6 3 6 2 6 1 3 6 3 3 6 2 6 3 6 6 6 2 6 3 6 3 2 3 3 4 4 2 2 6 1 6 5 6 6 3 1 3 2 3 4 3 6 3 5 6 3 3 6 6 6 3 2 3 5 5 6 6 6 4 3 6 1 3 3 3 5 3 3 6 6 6 2 3 3 3 3 5 6 6 1 4 3 6 3 6 3 6 2 2 3 6 1 3 3 6 3 6 3 6 3 6 6 5 3 2 6 1 6 6 3 3 6 3 6 3 6 6 6 3 4 3 6 3 4 6 3 6 2 6 6 4 3 3 3 3 3 2 5 6 1 6 6 3 6 4 6 5 3 6 3 6 6 3 6 3 3 3 6 6 3 3 6 1 3 6 6 6 2 1 3 3 6 6 6 1 6 6 3 6 6 6 2 6 6 6 3 6 4 3 3 3 3 2 6 3 6 6 2 2 6 3 3 2 6 3 2 6 4 6 6 6 2 1 3 6 2 6 6 3 6 2 3 3 2 2 3 4 6 2 6 2 6 6 3 1 3 2 6 6 3 6 3 2 6 6 2 3 3 3 3 6 3 6 4 6 4 3 2 5 3 1 5 6 3 6 3 4 3 3 6 6 6 4 2 6 2 1 6 6 3 6 6 2 2 5 4 6 3 3 6 3 1 6 6 6 3 1 2 6 2 2 6 6 2 4 6 6 1 3 2 2 6 6 3 6 3 6 6 6 2 3 1 3 6 6 6 3 6 6 3 6 4 4 2 3 4 2 6 3 3 3 6 6 6 2 6 3 3 3 3 6 6 6 3 3 3 6 6 4 4 3 6 6 3 4 3 3 2 3 1 6 3 3 2 6 3 6 3 4 2 1 6 1 4 3 6 4 2 3 6 6 3 6 6 3 1 6 6 6 6 2 6 6 3 3 6 1 2 6 3 6 2 6 4 6 6 6 6 6 6 3 3 6 6 6 3 6 6 3 3 3 6 3 6 6 2 6 6 3 3 6 6 3 6 6 6 1 6 4 3 6 5 6 3 1 2 6 6 6 6 2 4 3 6 3 6 3 6 6 5 3 3 6 6 4 6 3 2 6 4 6 6 3 3 6 2 4 3 4 3 4 6 6 6 6 4 3 3 3 1 6 3 3 6 4 6 6 4 1 6 2 6 2 3 3 6 3 6 4 2 6 3 3 6 4 6 4 4 6 3 3 6 3 6 2 3 3 3 4 2 3 6 6 2 2 1 6 6 3 2 2 6 4 3 6 6 3 6 4 6 6 2 3 3 3 6 2 5 6 6 1 1 3 6 3 6 4 6 2 2 6 3 4 3 3 2 4 6 4 3 6 6 6 6 3 2 1 3 3 4 5 6 3 6 3 3 6 4 6 2 6 6 6 2 3 2 5 3 2 3 6 3 6 6 3 6 2 6 3 6 4 3 6 6 3 3 6 6 6 6 3 6 4 6 6 6 3 2 6 6 6 3 4 1 5 3 3 2 6 4 3 3 6 3 3 6 6 6 3 2 3 3 2 6 6 6 6 3 2 3 6 3 3 6 6 6 6 3 1 3 6 3 3 2 3 2 6 3 1 6 6 6 6 6 6 3 4 3 3 6 3 4 2 6 4 5 4 3 3 1 3 6 2 3 3 2 3 3 4 3 2 2 6 2 3 3 2 6 3 4 6 4 6 6 4 3 3 3 3 6 5 6 6 3 3 6 1 6 5 6 3 6 6 6 3 4 3 2 6 1 2 4 4 3 6 3 4 3 6 2 4 3 4 6 6 3 6 3 3 1 3 6 6 6 3 3 3 6 6 1 6 6 6 6 6 2 6 3 3 6 6 5 3 3 6 1 2 6 6 6 3 3 6 6 4 6 2 4 1 1 1 3 6 3 2 2 6 6 3 3 4 6 6 6 3 6 6 5 6 3 6 4 6 6 3 6 4 6 1 6 1 4 3 3 3 1 6 3 6 3 6 3 6 3 6 6 6 2 2 3 2 1 6 3 3 3 2 6 6 6 2 6 6 3 6 2 2 6 6 3 6 3 3 6 2 6 6 4 3 4 6 6 3 4 3 1 6 5 3 6 1 6 6 6 4 2 3 3 3 4 2 3 3 2 3 4 3 1 3 6 6 4 6 6 2 3 6 1 6 6 3 3 6 3 3 1 3 3 6 6 5 3 6 3 6 3 2 2 3 6 6 3 3 6 6 6 3 2 6 3 3 2 6 6 3 3 1 3 6 1 6 2 3 1 3 6 3 6 3 4 2 2 6 6 6 6 3 6 6 6 6 3 3 2 2 1 6 3 6 3 2 6 3 3 2 2 3 2 4 6 6 4 3 3 3 3 6 3 6 2 3 2 6 4 3 2 6 6 2 6 6 6 6 5 3 3 1 5 3 3 6 6 2 3 3 6 1 2 6 6 6 3 2 3 6 3 2 6 3 2 2 3 6 3 3 2 3 6 3 3 6 6 3 1 5 6 6 3 6 5 6 6 6 3 3 3 6 6 6 3 2 6 3 3 3 3 3 3 6 6 6 3 3 3 6 3 6 6 2 1 3 6 1 3 3 2 6 6 3 6 2 3 6 6 3 2 6 6 3 6 3 5 3 6 6 4 6 4 3 1 3 3 3 1 3 3 3 4 3 3 3 3 6 3 6 3 3 6 6 3 6 3 6 6 4 3 3 6 6 5 2 3 3 3 3 4 6 6 3 2 6 4 4 6 2 6 3 6 3 3 3 6 6 3 6 3 6 6 6 1 6 2 2 4 6 3 3 3 6 6 6 3 6 1 5 3 3 4 2 3 3 2 3 2 3 3 6 2 6 6 3 6 2 6 6 3 6 6 3 2 6 6 2 3 6 3 6 6 6 5 6 6 5 6 3 3 2 6 6 2 6 6 1 3 4 4 3 6 5 6 3 6 6 6 3 6 3 2 3 6 3 3 4 6 2 6 3 4 6 6 6 6 1 6 6 3 3 6 1 6 3 3 2 4 6 3 3 4 3 2 4 3 2 6 6 1 3 1 3 6 6 3 3 5 6 6 4 6 6 4 3 4 3 6 2 2 2 6 6 4 5 3 6 6 6 4 6 6 3 6 4 2 3 6 3 6 2 2 3 4 4 6 6 4 6 3 3 1 6 6 3 3 3 6 3 3 6 3 1 6 4 3 3 6 6 4 3 6 6 6 1 2 3 5 3 6 2 5 2 3 4 6 3 5 2 6 6 6 3 3 6 5 3 6 1 2 6 3 3 6 4 4 6 3 1 3 6 6 3 2 1 4 6 6 6 6 3 3 3 2 6 2 6 3 3 6 3 6 6 6 1 6 3 6 4 6 3 3 5 4 2 4 2 6 6 6 3 6 4 3 6 6 6 3 2 6 3 4 6 3 6 6 6 6 6 6 6 3 2 3 2 3 3 6 6 1 3 3 4 3 3 3 3 4 3 2 4 3 3 6 6 6 3 3 6 6 5 3 6 6 3 2 4 3 6 3 3 3 3 6 3 6 2 6 3 3 3 5 3 6 6 2 6 3 3 6 3 3 6 2 6 3 6 3 3 3 2 3 6 3 3 3 3 3 3 6 6 3 2 6 6 3 6 3 6 1 6 1 2 3 6 3 4 2 3 3 3 3 6 2 6 3 3 6 3 6 6 3 6 1 6 3 2 2 3 6 6 3 3 2 3 3 3 4 6 6 3 6 4 6 1 1 1 1 1 3 3 3 6 6 6 6 6 3 3 3 3 6 6 2 6 3 6 6 6 6 6 3 3 3 6 3 2 4 6 3 6 6 6 6 6 3 6 3 1 6 3 3 3 6 3 6 6 3 4 3 2 2 6 3 6 3 3 6 6 3 4 6 3 3 3 1 3 3 6 3 3 3 3 2 3 4 3 6 6 6 6 2 3 3 3 6 6 3 6 6 3 3 2 3 3 6 2 3 3 3 6 6 2 6 6 4 6 6 1 3 3 6 1 6 6 1 2 6 3 6 6 6 6 6 3 3 1 5 6 2 2 3 6 3 6 6 6 6 6 4 4 3 3 4 6 6 6 6 6 3 6 3 6 5 4 6 4 3 3 3 6 6 6 3 5 3 6 3 3 6 4 6 3 4 6 4 3 6 1 1 3 6 3 3 3 2 2 6 6 6 6 6 3 6 3 3 3 3 1 3 6 6 4 5 2 3 6 4 6 6 6 6 3 3 4 6 4 1 3 3 6 3 6 6 6 6 5 3 3 4 6 6 4 3 3 6 2 6 3 3 3 4 5 4 4 1 6 3 1 3 5 6 2 6 3 3 3 1 6 6 3 3 3 3 4 6 6 3 3 6 4 6 6 6 3 2 3 3 6 6 3 4 6 4 1 3 6 2 3 3 2 6 3 3 6 6 6 3 3 6 2 2 3 2 3 3 3 3 5 6 2 6 6 6 3 1 6 6 4 6 3 6 5 6 6 6 2 6 6 6 6 6 6 6 3 6 4 6 6 3 6 2 3 6 3 4 6 2 1 6 3 6 3 3 3 6 3 3 2 1 6 2 6 5 3 6 2 6 6 6 6 3 6 6 5 2 6 1 3 6 2 6 1 4 6 4 3 6 6 6 6 3 3 1 4 3 3 4 6 1 6 6 1 3 2 6 6 6 6 6 6 3 3 3 6 4 3 3 2 2 3 6 3 6 3 6 6 2 6 6 6 3 1 1 3 6 6 3 3 3 3 3 1 3 3 6 4 2 6 6 2 6 6 6 3 6 2 5 6 6 6 4 1 6 3 6 3 3 3 6 3 6 6 3 1 3 2 6 6 4 3 5 6 1 6 6 4 3 3 6 3 3 3 2 2 6 6 3 3 2 3 3 3 4 4 3 3 3 6 6 3 6 6 3 6 6 6 2 6 6 1 6 6 6 6 6 6 6 3 6 3 2 4 6 3 6 1 2 5 6 3 2 6 3 3 6 2 3 3 6 6 3 2 3 6 1 3 3 6 6 3 2 3 1 4 3 6 5 6 6 3 3 3 2 3 6 6 3 4 2 3 3 6 6 3 6 3 6 3 6 3 3 3 2 1 2 6 3 1 6 4 3 3 6 6 6 3 3 6 3 6 6 6 3 3 3 3 3 4 3 4 3 3 6 6 1 4 4 2 6 3 5 6 1 6 4 3 6 5 5 6 3 2 1 3 3 6 1 3 3 6 2 6 3 3 4 2 6 2 1 2 6 4 6 4 3 3 3 4 2 6 6 6 3 2 6 6 6 4 6 6 6 3 6 1 6 3 6 3 6 6 6 3 4 4 4 4 1 3 3 3 3 1 3 1 2 3 3 3 6 3 4 3 6 3 3 6 6 6 6 3 2 2 6 3 2 3 5 3 4 5 3 4 6 6 6 3 6 6 3 6 3 3 3 3 6 2 5 1 6 4 6 6 6 6 2 2 6 6 6 4 4 3 2 2 6 6 2 6 1 6 3 2 3 6 6 2 3 3 6 6 3 6 1 5 6 2 6 1 2 3 3 3 5 3 1 4 4 2 2 2 6 6 4 6 6 3 3 4 6 6 6 3 3 3 6 4 4 6 6 3 3 3 3 6 3 6 3 3 4 3 6 2 4 6 4 3 6 6 3 6 4 5 3 6 3 6 3 3 6 6 3 5 4 2 3 3 2 4 3 1 3 6 6 4 2 3 3 3 4 6 2 3 3 3 3 4 5 6 3 4 3 6 6 3 3 3 6 2 6 6 6 6 4 3 3 6 6 4 2 6 2 6 4 1 3 6 1 6 3 3 5 2 2 3 6 3 6 2 6 6 6 2 3 2 1 6 3 6 2 3 6 3 6 3 4 6 6 6 1 6 6 5 6 3 6 1 6 3 6 3 6 3 3 6 6 6 6 6 3 2 5 6 6 3 2 3 2 6 6 6 3 3 6 6 6 1 5 3 3 6 6 6 5 3 6 6 6 6 6 6 3 6 4 6 2 6 3 2 6 2 3 3 4 6 6 4 3 6 6 \n",
      "The mean of the 5,000 die is:  4.0932\n"
     ]
    }
   ],
   "source": [
    "# Write you code here\n",
    "for _ in range(5000):\n",
    "    print (np.random.choice([1,2,3,4,5,6],\n",
    "                            p=[0.3/6, 0.7/6, 2/6, 0.5/6, 0.2/6, 2.3/6]\n",
    "                            ),\n",
    "            end=' ')\n",
    "\n",
    "die_mean = np.random.choice(range(1,7), 5000, p=[.3/6,.7/6,2/6,.5/6,.2/6,2.3/6]).mean()\n",
    "print('\\nThe mean of the 5,000 die is: ', die_mean)"
   ]
  },
  {
   "cell_type": "markdown",
   "id": "78152616",
   "metadata": {},
   "source": [
    "##### Q.5 \n",
    "\n",
    "* Does the mean match your prediction in Q.3 above? Explain your answer.\n"
   ]
  },
  {
   "cell_type": "markdown",
   "id": "6d11df2d",
   "metadata": {},
   "source": [
    "This mean does match the prediction in Q3. The mean that is predicted from the code snippet above was calculated to be 4.0932. The mean that was calculated by hand (and from observing the bar chart) was between approximately 4.08-4.25. "
   ]
  }
 ],
 "metadata": {
  "kernelspec": {
   "display_name": "Python 3 (ipykernel)",
   "language": "python",
   "name": "python3"
  },
  "language_info": {
   "codemirror_mode": {
    "name": "ipython",
    "version": 3
   },
   "file_extension": ".py",
   "mimetype": "text/x-python",
   "name": "python",
   "nbconvert_exporter": "python",
   "pygments_lexer": "ipython3",
   "version": "3.7.11"
  }
 },
 "nbformat": 4,
 "nbformat_minor": 5
}
